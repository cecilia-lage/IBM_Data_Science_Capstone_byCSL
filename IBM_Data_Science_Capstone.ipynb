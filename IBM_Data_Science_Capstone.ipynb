{
    "cells": [
        {
            "metadata": {
                "collapsed": true
            },
            "cell_type": "markdown",
            "source": "## IBM Data Science Capstone Project Notebook\n### Created by Cecilia Souto Lage\n#### January 2021\n\nNotebook mainly used for the capstone project of the IBM Data Science Certificate."
        },
        {
            "metadata": {},
            "cell_type": "code",
            "source": "# Import the pandas library as pd\nimport pandas as pd\n# Import the Numpy library as np\nimport numpy as np\n# Install/import Geopandas and Geopy for geocoding\n!pip install geopandas\n!pip install geopy\nfrom geopy.geocoders import Nominatim\nfrom geopy.extra.rate_limiter import RateLimiter\n# Let`s rock geocoding with Opencage\n!pip install opencage \n# Print Hello statement\nprint('Hello Capstone Project Course!')",
            "execution_count": 1,
            "outputs": [
                {
                    "output_type": "stream",
                    "text": "Collecting geopandas\n  Downloading geopandas-0.8.2-py2.py3-none-any.whl (962 kB)\n\u001b[K     |\u2588\u2588\u2588\u2588\u2588\u2588\u2588\u2588\u2588\u2588\u2588\u2588\u2588\u2588\u2588\u2588\u2588\u2588\u2588\u2588\u2588\u2588\u2588\u2588\u2588\u2588\u2588\u2588\u2588\u2588\u2588\u2588| 962 kB 18.1 MB/s eta 0:00:01\n\u001b[?25hCollecting shapely\n  Downloading Shapely-1.7.1-cp37-cp37m-manylinux1_x86_64.whl (1.0 MB)\n\u001b[K     |\u2588\u2588\u2588\u2588\u2588\u2588\u2588\u2588\u2588\u2588\u2588\u2588\u2588\u2588\u2588\u2588\u2588\u2588\u2588\u2588\u2588\u2588\u2588\u2588\u2588\u2588\u2588\u2588\u2588\u2588\u2588\u2588| 1.0 MB 50.3 MB/s eta 0:00:01\n\u001b[?25hCollecting pyproj>=2.2.0\n  Downloading pyproj-3.0.0.post1-cp37-cp37m-manylinux2010_x86_64.whl (6.4 MB)\n\u001b[K     |\u2588\u2588\u2588\u2588\u2588\u2588\u2588\u2588\u2588\u2588\u2588\u2588\u2588\u2588\u2588\u2588\u2588\u2588\u2588\u2588\u2588\u2588\u2588\u2588\u2588\u2588\u2588\u2588\u2588\u2588\u2588\u2588| 6.4 MB 21.5 MB/s eta 0:00:01\n\u001b[?25hCollecting fiona\n  Downloading Fiona-1.8.18-cp37-cp37m-manylinux1_x86_64.whl (14.8 MB)\n\u001b[K     |\u2588\u2588\u2588\u2588\u2588\u2588\u2588\u2588\u2588\u2588\u2588\u2588\u2588\u2588\u2588\u2588\u2588\u2588\u2588\u2588\u2588\u2588\u2588\u2588\u2588\u2588\u2588\u2588\u2588\u2588\u2588\u2588| 14.8 MB 54.1 MB/s eta 0:00:01\n\u001b[?25hRequirement already satisfied: pandas>=0.23.0 in /opt/conda/envs/Python-3.7-main/lib/python3.7/site-packages (from geopandas) (1.0.5)\nRequirement already satisfied: certifi in /opt/conda/envs/Python-3.7-main/lib/python3.7/site-packages (from pyproj>=2.2.0->geopandas) (2020.12.5)\nRequirement already satisfied: attrs>=17 in /opt/conda/envs/Python-3.7-main/lib/python3.7/site-packages (from fiona->geopandas) (19.3.0)\nCollecting cligj>=0.5\n  Downloading cligj-0.7.1-py3-none-any.whl (7.1 kB)\nRequirement already satisfied: click<8,>=4.0 in /opt/conda/envs/Python-3.7-main/lib/python3.7/site-packages (from fiona->geopandas) (7.1.2)\nCollecting munch\n  Downloading munch-2.5.0-py2.py3-none-any.whl (10 kB)\nCollecting click-plugins>=1.0\n  Downloading click_plugins-1.1.1-py2.py3-none-any.whl (7.5 kB)\nRequirement already satisfied: six>=1.7 in /opt/conda/envs/Python-3.7-main/lib/python3.7/site-packages (from fiona->geopandas) (1.15.0)\nRequirement already satisfied: python-dateutil>=2.6.1 in /opt/conda/envs/Python-3.7-main/lib/python3.7/site-packages (from pandas>=0.23.0->geopandas) (2.8.1)\nRequirement already satisfied: pytz>=2017.2 in /opt/conda/envs/Python-3.7-main/lib/python3.7/site-packages (from pandas>=0.23.0->geopandas) (2020.1)\nRequirement already satisfied: numpy>=1.13.3 in /opt/conda/envs/Python-3.7-main/lib/python3.7/site-packages (from pandas>=0.23.0->geopandas) (1.18.5)\nInstalling collected packages: shapely, pyproj, cligj, munch, click-plugins, fiona, geopandas\nSuccessfully installed click-plugins-1.1.1 cligj-0.7.1 fiona-1.8.18 geopandas-0.8.2 munch-2.5.0 pyproj-3.0.0.post1 shapely-1.7.1\nRequirement already satisfied: geopy in /opt/conda/envs/Python-3.7-main/lib/python3.7/site-packages (2.0.0)\nRequirement already satisfied: geographiclib<2,>=1.49 in /opt/conda/envs/Python-3.7-main/lib/python3.7/site-packages (from geopy) (1.50)\nCollecting opencage\n  Downloading opencage-1.2.2-py3-none-any.whl (6.1 kB)\nRequirement already satisfied: Requests>=2.2.0 in /opt/conda/envs/Python-3.7-main/lib/python3.7/site-packages (from opencage) (2.24.0)\nCollecting backoff>=1.10.0\n  Downloading backoff-1.10.0-py2.py3-none-any.whl (31 kB)\nRequirement already satisfied: six>=1.4.0 in /opt/conda/envs/Python-3.7-main/lib/python3.7/site-packages (from opencage) (1.15.0)\nRequirement already satisfied: pyopenssl>=0.15.1 in /opt/conda/envs/Python-3.7-main/lib/python3.7/site-packages (from opencage) (19.1.0)\nRequirement already satisfied: idna<3,>=2.5 in /opt/conda/envs/Python-3.7-main/lib/python3.7/site-packages (from Requests>=2.2.0->opencage) (2.9)\nRequirement already satisfied: urllib3!=1.25.0,!=1.25.1,<1.26,>=1.21.1 in /opt/conda/envs/Python-3.7-main/lib/python3.7/site-packages (from Requests>=2.2.0->opencage) (1.25.9)\nRequirement already satisfied: certifi>=2017.4.17 in /opt/conda/envs/Python-3.7-main/lib/python3.7/site-packages (from Requests>=2.2.0->opencage) (2020.12.5)\nRequirement already satisfied: chardet<4,>=3.0.2 in /opt/conda/envs/Python-3.7-main/lib/python3.7/site-packages (from Requests>=2.2.0->opencage) (3.0.4)\nRequirement already satisfied: cryptography>=2.8 in /opt/conda/envs/Python-3.7-main/lib/python3.7/site-packages (from pyopenssl>=0.15.1->opencage) (3.2.1)\nRequirement already satisfied: cffi!=1.11.3,>=1.8 in /opt/conda/envs/Python-3.7-main/lib/python3.7/site-packages (from cryptography>=2.8->pyopenssl>=0.15.1->opencage) (1.14.0)\nRequirement already satisfied: pycparser in /opt/conda/envs/Python-3.7-main/lib/python3.7/site-packages (from cffi!=1.11.3,>=1.8->cryptography>=2.8->pyopenssl>=0.15.1->opencage) (2.20)\nInstalling collected packages: backoff, opencage\nSuccessfully installed backoff-1.10.0 opencage-1.2.2\nHello Capstone Project Course!\n",
                    "name": "stdout"
                }
            ]
        },
        {
            "metadata": {
                "scrolled": true
            },
            "cell_type": "code",
            "source": "# 1. Get the table with Toronto info from the web\ndfto = pd.read_html('https://en.wikipedia.org/wiki/List_of_postal_codes_of_Canada:_M')[0]\n\n# 2. Ignore cells with a borough that is Not assigned\ndfto = dfto.loc[dfto['Borough']!=\"Not assigned\"]\n\n# 3. Print the number of cells of the dataframe\nprint('The dataframe has {} rows.'.format(dfto.shape[0]))\n\n# 4. Check the dataframe so far\nprint('The datafrane so far looks like this:')\ndfto.head()",
            "execution_count": 11,
            "outputs": [
                {
                    "output_type": "stream",
                    "text": "The dataframe has 103 rows.\nThe datafrane so far looks like this:\n",
                    "name": "stdout"
                },
                {
                    "output_type": "execute_result",
                    "execution_count": 11,
                    "data": {
                        "text/plain": "  Postal Code           Borough                                Neighbourhood\n2         M3A        North York                                    Parkwoods\n3         M4A        North York                             Victoria Village\n4         M5A  Downtown Toronto                    Regent Park, Harbourfront\n5         M6A        North York             Lawrence Manor, Lawrence Heights\n6         M7A  Downtown Toronto  Queen's Park, Ontario Provincial Government",
                        "text/html": "<div>\n<style scoped>\n    .dataframe tbody tr th:only-of-type {\n        vertical-align: middle;\n    }\n\n    .dataframe tbody tr th {\n        vertical-align: top;\n    }\n\n    .dataframe thead th {\n        text-align: right;\n    }\n</style>\n<table border=\"1\" class=\"dataframe\">\n  <thead>\n    <tr style=\"text-align: right;\">\n      <th></th>\n      <th>Postal Code</th>\n      <th>Borough</th>\n      <th>Neighbourhood</th>\n    </tr>\n  </thead>\n  <tbody>\n    <tr>\n      <th>2</th>\n      <td>M3A</td>\n      <td>North York</td>\n      <td>Parkwoods</td>\n    </tr>\n    <tr>\n      <th>3</th>\n      <td>M4A</td>\n      <td>North York</td>\n      <td>Victoria Village</td>\n    </tr>\n    <tr>\n      <th>4</th>\n      <td>M5A</td>\n      <td>Downtown Toronto</td>\n      <td>Regent Park, Harbourfront</td>\n    </tr>\n    <tr>\n      <th>5</th>\n      <td>M6A</td>\n      <td>North York</td>\n      <td>Lawrence Manor, Lawrence Heights</td>\n    </tr>\n    <tr>\n      <th>6</th>\n      <td>M7A</td>\n      <td>Downtown Toronto</td>\n      <td>Queen's Park, Ontario Provincial Government</td>\n    </tr>\n  </tbody>\n</table>\n</div>"
                    },
                    "metadata": {}
                }
            ]
        },
        {
            "metadata": {},
            "cell_type": "code",
            "source": "# OpenCageGeocode key info\nkey_csl = \"93aed5cbfd4a4d82a2056ee3bd6fd36d\"",
            "execution_count": 15,
            "outputs": []
        },
        {
            "metadata": {},
            "cell_type": "code",
            "source": "# 6. Geocoding each address from our dataset\n\n# 6.1. Creating column with full address info\ndfto['Address']=dfto['Postal Code'] + ',' + dfto['Borough']  + ',' + 'Toronto'\n# 6.2. Import OpenCageGeocode\nfrom opencage.geocoder import OpenCageGeocode\n# 6.2. Enter your key info\nkey = key_csl\n# 6.3. Convert address column to list\naddresses = dfto['Address'].values.tolist()\n# 6.4. Connect to OpenCageGeocode API\ngeocoder = OpenCageGeocode(key)\n# 6.5. Create lists to store latitude/longitude values\nlatitudes = []\nlongitudes = []\n# 6.6. Implement a loop to get lat/lng values for all addresses\nfor address in addresses: \n    result = geocoder.geocode(address, no_annotations=\"1\")  \n    \n    if result and len(result):  \n        longitude = result[0][\"geometry\"][\"lng\"]  \n        latitude = result[0][\"geometry\"][\"lat\"] \n    else:  \n        longitude = \"N/A\"  \n        latitude = \"N/A\"  \n    \n    latitudes.append(latitude) \n    longitudes.append(longitude)",
            "execution_count": null,
            "outputs": []
        },
        {
            "metadata": {},
            "cell_type": "code",
            "source": "# 6.7. Append lat/lng values to dataframe\ndfto['Latitude'] = latitudes\ndfto['Longitude'] = longitudes\n# 6.8. Check dataframe\ndfto.head()",
            "execution_count": 13,
            "outputs": [
                {
                    "output_type": "execute_result",
                    "execution_count": 13,
                    "data": {
                        "text/plain": "  Postal Code           Borough                                Neighbourhood  \\\n2         M3A        North York                                    Parkwoods   \n3         M4A        North York                             Victoria Village   \n4         M5A  Downtown Toronto                    Regent Park, Harbourfront   \n5         M6A        North York             Lawrence Manor, Lawrence Heights   \n6         M7A  Downtown Toronto  Queen's Park, Ontario Provincial Government   \n\n                        Address   Latitude  Longitude  \n2        M3A,North York,Toronto  43.754326 -79.449117  \n3        M4A,North York,Toronto  43.754326 -79.449117  \n4  M5A,Downtown Toronto,Toronto  43.654174 -79.380812  \n5        M6A,North York,Toronto  43.754326 -79.449117  \n6  M7A,Downtown Toronto,Toronto  43.656322 -79.380916  ",
                        "text/html": "<div>\n<style scoped>\n    .dataframe tbody tr th:only-of-type {\n        vertical-align: middle;\n    }\n\n    .dataframe tbody tr th {\n        vertical-align: top;\n    }\n\n    .dataframe thead th {\n        text-align: right;\n    }\n</style>\n<table border=\"1\" class=\"dataframe\">\n  <thead>\n    <tr style=\"text-align: right;\">\n      <th></th>\n      <th>Postal Code</th>\n      <th>Borough</th>\n      <th>Neighbourhood</th>\n      <th>Address</th>\n      <th>Latitude</th>\n      <th>Longitude</th>\n    </tr>\n  </thead>\n  <tbody>\n    <tr>\n      <th>2</th>\n      <td>M3A</td>\n      <td>North York</td>\n      <td>Parkwoods</td>\n      <td>M3A,North York,Toronto</td>\n      <td>43.754326</td>\n      <td>-79.449117</td>\n    </tr>\n    <tr>\n      <th>3</th>\n      <td>M4A</td>\n      <td>North York</td>\n      <td>Victoria Village</td>\n      <td>M4A,North York,Toronto</td>\n      <td>43.754326</td>\n      <td>-79.449117</td>\n    </tr>\n    <tr>\n      <th>4</th>\n      <td>M5A</td>\n      <td>Downtown Toronto</td>\n      <td>Regent Park, Harbourfront</td>\n      <td>M5A,Downtown Toronto,Toronto</td>\n      <td>43.654174</td>\n      <td>-79.380812</td>\n    </tr>\n    <tr>\n      <th>5</th>\n      <td>M6A</td>\n      <td>North York</td>\n      <td>Lawrence Manor, Lawrence Heights</td>\n      <td>M6A,North York,Toronto</td>\n      <td>43.754326</td>\n      <td>-79.449117</td>\n    </tr>\n    <tr>\n      <th>6</th>\n      <td>M7A</td>\n      <td>Downtown Toronto</td>\n      <td>Queen's Park, Ontario Provincial Government</td>\n      <td>M7A,Downtown Toronto,Toronto</td>\n      <td>43.656322</td>\n      <td>-79.380916</td>\n    </tr>\n  </tbody>\n</table>\n</div>"
                    },
                    "metadata": {}
                }
            ]
        },
        {
            "metadata": {},
            "cell_type": "code",
            "source": "",
            "execution_count": null,
            "outputs": []
        }
    ],
    "metadata": {
        "kernelspec": {
            "name": "python3",
            "display_name": "Python 3.7",
            "language": "python"
        },
        "language_info": {
            "name": "python",
            "version": "3.7.9",
            "mimetype": "text/x-python",
            "codemirror_mode": {
                "name": "ipython",
                "version": 3
            },
            "pygments_lexer": "ipython3",
            "nbconvert_exporter": "python",
            "file_extension": ".py"
        }
    },
    "nbformat": 4,
    "nbformat_minor": 1
}