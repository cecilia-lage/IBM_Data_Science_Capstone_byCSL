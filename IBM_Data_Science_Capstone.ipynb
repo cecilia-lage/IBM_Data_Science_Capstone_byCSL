{
    "cells": [
        {
            "cell_type": "markdown",
            "metadata": {
                "collapsed": true
            },
            "source": "## IBM Data Science Capstone Project Notebook\n### Created by Cecilia Souto Lage\n#### January 2021\n\nNotebook mainly used for the capstone project of the IBM Data Science Certificate."
        },
        {
            "cell_type": "code",
            "execution_count": 3,
            "metadata": {},
            "outputs": [
                {
                    "name": "stdout",
                    "output_type": "stream",
                    "text": "Hello Capstone Project Course!\n"
                }
            ],
            "source": "# Import the pandas library as pd\nimport pandas as pd\n# Import the Numpy library as np\nimport numpy as np\n# Print Hello statement\nprint('Hello Capstone Project Course!')"
        },
        {
            "cell_type": "code",
            "execution_count": 26,
            "metadata": {},
            "outputs": [
                {
                    "name": "stdout",
                    "output_type": "stream",
                    "text": "The dataframe shape is (103, 3)\n"
                }
            ],
            "source": "# 1. Get the table with Toronto info from the web\ndfto = pd.read_html('https://en.wikipedia.org/wiki/List_of_postal_codes_of_Canada:_M')[0]\n\n# 2. Ignore cells with a borough that is Not assigned\ndfto = dfto.loc[dfto['Borough']!=\"Not assigned\"]\n\n# 3. Print the number of cells of the dataframe\nprint('The dataframe shape is {}'.format(dfto.shape))"
        },
        {
            "cell_type": "code",
            "execution_count": null,
            "metadata": {},
            "outputs": [],
            "source": ""
        }
    ],
    "metadata": {
        "kernelspec": {
            "display_name": "Python 3.7",
            "language": "python",
            "name": "python3"
        },
        "language_info": {
            "codemirror_mode": {
                "name": "ipython",
                "version": 3
            },
            "file_extension": ".py",
            "mimetype": "text/x-python",
            "name": "python",
            "nbconvert_exporter": "python",
            "pygments_lexer": "ipython3",
            "version": "3.7.9"
        }
    },
    "nbformat": 4,
    "nbformat_minor": 1
}